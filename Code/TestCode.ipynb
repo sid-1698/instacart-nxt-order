{
 "cells": [
  {
   "cell_type": "code",
   "execution_count": 29,
   "metadata": {},
   "outputs": [
    {
     "name": "stdout",
     "output_type": "stream",
     "text": [
      "loading files ...\n",
      "done loading\n"
     ]
    },
    {
     "name": "stderr",
     "output_type": "stream",
     "text": [
      "/var/folders/jt/lpglwths3291lvnxtdynb_fh0000gn/T/ipykernel_43291/1391314191.py:21: FutureWarning: Downcasting behavior in `replace` is deprecated and will be removed in a future version. To retain the old behavior, explicitly call `result.infer_objects(copy=False)`. To opt-in to the future behavior, set `pd.set_option('future.no_silent_downcasting', True)`\n",
      "  orders.eval_set = orders.eval_set.replace({'prior': 0, 'train': 1, 'test':2}).astype(np.uint8)\n"
     ]
    }
   ],
   "source": [
    "import pandas as pd\n",
    "import numpy as np\n",
    "import gc\n",
    "import lightgbm as lgb\n",
    "from sklearn.model_selection import train_test_split\n",
    "import matplotlib.pyplot as plt\n",
    "\n",
    "myfolder = '../OriginalDataset/'\n",
    "print('loading files ...')\n",
    "\n",
    "prior = pd.read_csv(myfolder + 'order_products__prior.csv', dtype={'order_id': np.uint32,\n",
    "           'product_id': np.uint16, 'reordered': np.uint8, 'add_to_cart_order': np.uint8})\n",
    "\n",
    "train_orders = pd.read_csv(myfolder + 'order_products__train.csv', dtype={'order_id': np.uint32,\n",
    "           'product_id': np.uint16, 'reordered': np.int8, 'add_to_cart_order': np.uint8 })\n",
    "\n",
    "orders = pd.read_csv(myfolder + 'orders.csv', dtype={'order_hour_of_day': np.uint8,\n",
    "           'order_number': np.uint8, 'order_id': np.uint32, 'user_id': np.uint32,\n",
    "           'order_dow': np.uint8, 'days_since_prior_order': np.float32})\n",
    "\n",
    "orders.eval_set = orders.eval_set.replace({'prior': 0, 'train': 1, 'test':2}).astype(np.uint8)\n",
    "orders.days_since_prior_order = orders.days_since_prior_order.fillna(30).astype(np.uint8)\n",
    "\n",
    "products = pd.read_csv(myfolder + 'products.csv', dtype={'product_id': np.uint16,\n",
    "            'aisle_id': np.uint8, 'department_id': np.uint8},\n",
    "             usecols=['product_id', 'aisle_id', 'department_id'])\n",
    "\n",
    "print('done loading')"
   ]
  },
  {
   "cell_type": "code",
   "execution_count": 30,
   "metadata": {},
   "outputs": [
    {
     "name": "stdout",
     "output_type": "stream",
     "text": [
      "merge prior and orders and keep train separate ...\n"
     ]
    },
    {
     "data": {
      "text/plain": [
       "169"
      ]
     },
     "execution_count": 30,
     "metadata": {},
     "output_type": "execute_result"
    }
   ],
   "source": [
    "print('merge prior and orders and keep train separate ...')\n",
    "\n",
    "orders_products = orders.merge(prior, how = 'inner', on = 'order_id')\n",
    "train_orders = train_orders.merge(orders[['user_id','order_id']], left_on = 'order_id', right_on = 'order_id', how = 'inner')\n",
    "\n",
    "del prior\n",
    "gc.collect()"
   ]
  },
  {
   "cell_type": "code",
   "execution_count": 31,
   "metadata": {},
   "outputs": [
    {
     "name": "stdout",
     "output_type": "stream",
     "text": [
      "Creating features I ...\n"
     ]
    },
    {
     "data": {
      "text/plain": [
       "0"
      ]
     },
     "execution_count": 31,
     "metadata": {},
     "output_type": "execute_result"
    }
   ],
   "source": [
    "print('Creating features I ...')\n",
    "\n",
    "# sort orders and products to get the rank or the reorder frequency\n",
    "prdss = orders_products.sort_values(['user_id', 'order_number', 'product_id'], ascending=True)\n",
    "prdss['product_time'] = prdss.groupby(['user_id', 'product_id']).cumcount()+1\n",
    "\n",
    "# getting products ordered first and second times to calculate probability later\n",
    "sub1 = prdss[prdss['product_time'] == 1].groupby('product_id').size().to_frame('prod_first_orders')\n",
    "sub2 = prdss[prdss['product_time'] == 2].groupby('product_id').size().to_frame('prod_second_orders')\n",
    "sub1['prod_orders'] = prdss.groupby('product_id')['product_id'].size()\n",
    "sub1['prod_reorders'] = prdss.groupby('product_id')['reordered'].sum()\n",
    "sub2 = sub2.reset_index().merge(sub1.reset_index())\n",
    "sub2['prod_reorder_probability'] = sub2['prod_second_orders']/sub2['prod_first_orders']\n",
    "sub2['prod_reorder_ratio'] = sub2['prod_reorders']/sub2['prod_orders']\n",
    "prd = sub2[['product_id', 'prod_orders','prod_reorder_probability', 'prod_reorder_ratio']]\n",
    "\n",
    "del sub1, sub2, prdss\n",
    "gc.collect()"
   ]
  },
  {
   "cell_type": "code",
   "execution_count": 32,
   "metadata": {},
   "outputs": [
    {
     "data": {
      "text/plain": [
       "product_id                  0\n",
       "prod_orders                 0\n",
       "prod_reorder_probability    0\n",
       "prod_reorder_ratio          0\n",
       "dtype: int64"
      ]
     },
     "execution_count": 32,
     "metadata": {},
     "output_type": "execute_result"
    }
   ],
   "source": [
    "prd.isna().sum()"
   ]
  },
  {
   "cell_type": "code",
   "execution_count": 33,
   "metadata": {},
   "outputs": [
    {
     "name": "stdout",
     "output_type": "stream",
     "text": [
      "Creating features II ...\n"
     ]
    },
    {
     "data": {
      "text/plain": [
       "0"
      ]
     },
     "execution_count": 33,
     "metadata": {},
     "output_type": "execute_result"
    }
   ],
   "source": [
    "print('Creating features II ...')\n",
    "\n",
    "# extracting prior information (features) by user\n",
    "users = orders[orders['eval_set'] == 0].groupby(['user_id'])['order_number'].max().to_frame('user_orders')\n",
    "users['user_period'] = orders[orders['eval_set'] == 0].groupby(['user_id'])['days_since_prior_order'].sum()\n",
    "users['user_mean_days_since_prior'] = orders[orders['eval_set'] == 0].groupby(['user_id'])['days_since_prior_order'].mean()\n",
    "\n",
    "# merging features about users and orders into one dataset\n",
    "us = orders_products.groupby('user_id').size().to_frame('user_total_products')\n",
    "us['eq_1'] = orders_products[orders_products['reordered'] == 1].groupby('user_id')['product_id'].size()\n",
    "us['gt_1'] = orders_products[orders_products['order_number'] > 1].groupby('user_id')['product_id'].size()\n",
    "us['user_reorder_ratio'] = us['eq_1'] / us['gt_1']\n",
    "us.drop(['eq_1', 'gt_1'], axis = 1, inplace = True)\n",
    "us['user_distinct_products'] = orders_products.groupby(['user_id'])['product_id'].nunique()\n",
    "\n",
    "# the average basket size of the user\n",
    "users = users.reset_index().merge(us.reset_index())\n",
    "users['user_average_basket'] = users['user_total_products'] / users['user_orders']\n",
    "\n",
    "us = orders[orders['eval_set'] != 0]\n",
    "us = us[['user_id', 'order_id', 'eval_set', 'days_since_prior_order']]\n",
    "users = users.merge(us)\n",
    "\n",
    "del us\n",
    "gc.collect()"
   ]
  },
  {
   "cell_type": "code",
   "execution_count": 41,
   "metadata": {},
   "outputs": [
    {
     "data": {
      "text/html": [
       "<div>\n",
       "<style scoped>\n",
       "    .dataframe tbody tr th:only-of-type {\n",
       "        vertical-align: middle;\n",
       "    }\n",
       "\n",
       "    .dataframe tbody tr th {\n",
       "        vertical-align: top;\n",
       "    }\n",
       "\n",
       "    .dataframe thead th {\n",
       "        text-align: right;\n",
       "    }\n",
       "</style>\n",
       "<table border=\"1\" class=\"dataframe\">\n",
       "  <thead>\n",
       "    <tr style=\"text-align: right;\">\n",
       "      <th></th>\n",
       "      <th>order_id</th>\n",
       "      <th>user_id</th>\n",
       "      <th>eval_set</th>\n",
       "      <th>order_number</th>\n",
       "      <th>order_dow</th>\n",
       "      <th>order_hour_of_day</th>\n",
       "      <th>days_since_prior_order</th>\n",
       "    </tr>\n",
       "  </thead>\n",
       "  <tbody>\n",
       "    <tr>\n",
       "      <th>10</th>\n",
       "      <td>1187899</td>\n",
       "      <td>1</td>\n",
       "      <td>1</td>\n",
       "      <td>11</td>\n",
       "      <td>4</td>\n",
       "      <td>8</td>\n",
       "      <td>14</td>\n",
       "    </tr>\n",
       "    <tr>\n",
       "      <th>25</th>\n",
       "      <td>1492625</td>\n",
       "      <td>2</td>\n",
       "      <td>1</td>\n",
       "      <td>15</td>\n",
       "      <td>1</td>\n",
       "      <td>11</td>\n",
       "      <td>30</td>\n",
       "    </tr>\n",
       "    <tr>\n",
       "      <th>38</th>\n",
       "      <td>2774568</td>\n",
       "      <td>3</td>\n",
       "      <td>2</td>\n",
       "      <td>13</td>\n",
       "      <td>5</td>\n",
       "      <td>15</td>\n",
       "      <td>11</td>\n",
       "    </tr>\n",
       "    <tr>\n",
       "      <th>44</th>\n",
       "      <td>329954</td>\n",
       "      <td>4</td>\n",
       "      <td>2</td>\n",
       "      <td>6</td>\n",
       "      <td>3</td>\n",
       "      <td>12</td>\n",
       "      <td>30</td>\n",
       "    </tr>\n",
       "    <tr>\n",
       "      <th>49</th>\n",
       "      <td>2196797</td>\n",
       "      <td>5</td>\n",
       "      <td>1</td>\n",
       "      <td>5</td>\n",
       "      <td>0</td>\n",
       "      <td>11</td>\n",
       "      <td>6</td>\n",
       "    </tr>\n",
       "  </tbody>\n",
       "</table>\n",
       "</div>"
      ],
      "text/plain": [
       "    order_id  user_id  eval_set  order_number  order_dow  order_hour_of_day  \\\n",
       "10   1187899        1         1            11          4                  8   \n",
       "25   1492625        2         1            15          1                 11   \n",
       "38   2774568        3         2            13          5                 15   \n",
       "44    329954        4         2             6          3                 12   \n",
       "49   2196797        5         1             5          0                 11   \n",
       "\n",
       "    days_since_prior_order  \n",
       "10                      14  \n",
       "25                      30  \n",
       "38                      11  \n",
       "44                      30  \n",
       "49                       6  "
      ]
     },
     "execution_count": 41,
     "metadata": {},
     "output_type": "execute_result"
    }
   ],
   "source": [
    "us = orders[orders['eval_set'] != 0]\n",
    "us."
   ]
  },
  {
   "cell_type": "code",
   "execution_count": 42,
   "metadata": {},
   "outputs": [
    {
     "data": {
      "text/plain": [
       "user_id\n",
       "1         1\n",
       "137478    1\n",
       "137468    1\n",
       "137469    1\n",
       "137470    1\n",
       "         ..\n",
       "68740     1\n",
       "68741     1\n",
       "68742     1\n",
       "68743     1\n",
       "206209    1\n",
       "Name: count, Length: 206209, dtype: int64"
      ]
     },
     "execution_count": 42,
     "metadata": {},
     "output_type": "execute_result"
    }
   ],
   "source": [
    "us.user_id.value_counts()"
   ]
  },
  {
   "cell_type": "code",
   "execution_count": 45,
   "metadata": {},
   "outputs": [
    {
     "data": {
      "text/html": [
       "<div>\n",
       "<style scoped>\n",
       "    .dataframe tbody tr th:only-of-type {\n",
       "        vertical-align: middle;\n",
       "    }\n",
       "\n",
       "    .dataframe tbody tr th {\n",
       "        vertical-align: top;\n",
       "    }\n",
       "\n",
       "    .dataframe thead th {\n",
       "        text-align: right;\n",
       "    }\n",
       "</style>\n",
       "<table border=\"1\" class=\"dataframe\">\n",
       "  <thead>\n",
       "    <tr style=\"text-align: right;\">\n",
       "      <th></th>\n",
       "      <th>user_id</th>\n",
       "      <th>user_orders</th>\n",
       "      <th>user_period</th>\n",
       "      <th>user_mean_days_since_prior</th>\n",
       "      <th>user_total_products</th>\n",
       "      <th>user_reorder_ratio</th>\n",
       "      <th>user_distinct_products</th>\n",
       "      <th>user_average_basket</th>\n",
       "      <th>order_id</th>\n",
       "      <th>eval_set</th>\n",
       "      <th>days_since_prior_order</th>\n",
       "    </tr>\n",
       "  </thead>\n",
       "  <tbody>\n",
       "    <tr>\n",
       "      <th>0</th>\n",
       "      <td>1</td>\n",
       "      <td>10</td>\n",
       "      <td>206</td>\n",
       "      <td>20.600000</td>\n",
       "      <td>59</td>\n",
       "      <td>0.759259</td>\n",
       "      <td>18</td>\n",
       "      <td>5.900000</td>\n",
       "      <td>1187899</td>\n",
       "      <td>1</td>\n",
       "      <td>14</td>\n",
       "    </tr>\n",
       "    <tr>\n",
       "      <th>1</th>\n",
       "      <td>2</td>\n",
       "      <td>14</td>\n",
       "      <td>228</td>\n",
       "      <td>16.285714</td>\n",
       "      <td>195</td>\n",
       "      <td>0.510989</td>\n",
       "      <td>102</td>\n",
       "      <td>13.928571</td>\n",
       "      <td>1492625</td>\n",
       "      <td>1</td>\n",
       "      <td>30</td>\n",
       "    </tr>\n",
       "    <tr>\n",
       "      <th>2</th>\n",
       "      <td>3</td>\n",
       "      <td>12</td>\n",
       "      <td>163</td>\n",
       "      <td>13.583333</td>\n",
       "      <td>88</td>\n",
       "      <td>0.705128</td>\n",
       "      <td>33</td>\n",
       "      <td>7.333333</td>\n",
       "      <td>2774568</td>\n",
       "      <td>2</td>\n",
       "      <td>11</td>\n",
       "    </tr>\n",
       "    <tr>\n",
       "      <th>3</th>\n",
       "      <td>4</td>\n",
       "      <td>5</td>\n",
       "      <td>85</td>\n",
       "      <td>17.000000</td>\n",
       "      <td>18</td>\n",
       "      <td>0.071429</td>\n",
       "      <td>17</td>\n",
       "      <td>3.600000</td>\n",
       "      <td>329954</td>\n",
       "      <td>2</td>\n",
       "      <td>30</td>\n",
       "    </tr>\n",
       "    <tr>\n",
       "      <th>4</th>\n",
       "      <td>5</td>\n",
       "      <td>4</td>\n",
       "      <td>70</td>\n",
       "      <td>17.500000</td>\n",
       "      <td>37</td>\n",
       "      <td>0.538462</td>\n",
       "      <td>23</td>\n",
       "      <td>9.250000</td>\n",
       "      <td>2196797</td>\n",
       "      <td>1</td>\n",
       "      <td>6</td>\n",
       "    </tr>\n",
       "    <tr>\n",
       "      <th>...</th>\n",
       "      <td>...</td>\n",
       "      <td>...</td>\n",
       "      <td>...</td>\n",
       "      <td>...</td>\n",
       "      <td>...</td>\n",
       "      <td>...</td>\n",
       "      <td>...</td>\n",
       "      <td>...</td>\n",
       "      <td>...</td>\n",
       "      <td>...</td>\n",
       "      <td>...</td>\n",
       "    </tr>\n",
       "    <tr>\n",
       "      <th>206204</th>\n",
       "      <td>206205</td>\n",
       "      <td>3</td>\n",
       "      <td>70</td>\n",
       "      <td>23.333333</td>\n",
       "      <td>32</td>\n",
       "      <td>0.533333</td>\n",
       "      <td>24</td>\n",
       "      <td>10.666667</td>\n",
       "      <td>1716008</td>\n",
       "      <td>1</td>\n",
       "      <td>10</td>\n",
       "    </tr>\n",
       "    <tr>\n",
       "      <th>206205</th>\n",
       "      <td>206206</td>\n",
       "      <td>67</td>\n",
       "      <td>279</td>\n",
       "      <td>4.164179</td>\n",
       "      <td>285</td>\n",
       "      <td>0.480427</td>\n",
       "      <td>150</td>\n",
       "      <td>4.253731</td>\n",
       "      <td>1043943</td>\n",
       "      <td>2</td>\n",
       "      <td>0</td>\n",
       "    </tr>\n",
       "    <tr>\n",
       "      <th>206206</th>\n",
       "      <td>206207</td>\n",
       "      <td>16</td>\n",
       "      <td>245</td>\n",
       "      <td>15.312500</td>\n",
       "      <td>223</td>\n",
       "      <td>0.658291</td>\n",
       "      <td>92</td>\n",
       "      <td>13.937500</td>\n",
       "      <td>2821651</td>\n",
       "      <td>2</td>\n",
       "      <td>14</td>\n",
       "    </tr>\n",
       "    <tr>\n",
       "      <th>206207</th>\n",
       "      <td>206208</td>\n",
       "      <td>49</td>\n",
       "      <td>387</td>\n",
       "      <td>7.897959</td>\n",
       "      <td>677</td>\n",
       "      <td>0.720301</td>\n",
       "      <td>198</td>\n",
       "      <td>13.816327</td>\n",
       "      <td>803273</td>\n",
       "      <td>2</td>\n",
       "      <td>4</td>\n",
       "    </tr>\n",
       "    <tr>\n",
       "      <th>206208</th>\n",
       "      <td>206209</td>\n",
       "      <td>13</td>\n",
       "      <td>240</td>\n",
       "      <td>18.461538</td>\n",
       "      <td>129</td>\n",
       "      <td>0.525862</td>\n",
       "      <td>68</td>\n",
       "      <td>9.923077</td>\n",
       "      <td>272231</td>\n",
       "      <td>1</td>\n",
       "      <td>30</td>\n",
       "    </tr>\n",
       "  </tbody>\n",
       "</table>\n",
       "<p>206209 rows × 11 columns</p>\n",
       "</div>"
      ],
      "text/plain": [
       "        user_id  user_orders  user_period  user_mean_days_since_prior  \\\n",
       "0             1           10          206                   20.600000   \n",
       "1             2           14          228                   16.285714   \n",
       "2             3           12          163                   13.583333   \n",
       "3             4            5           85                   17.000000   \n",
       "4             5            4           70                   17.500000   \n",
       "...         ...          ...          ...                         ...   \n",
       "206204   206205            3           70                   23.333333   \n",
       "206205   206206           67          279                    4.164179   \n",
       "206206   206207           16          245                   15.312500   \n",
       "206207   206208           49          387                    7.897959   \n",
       "206208   206209           13          240                   18.461538   \n",
       "\n",
       "        user_total_products  user_reorder_ratio  user_distinct_products  \\\n",
       "0                        59            0.759259                      18   \n",
       "1                       195            0.510989                     102   \n",
       "2                        88            0.705128                      33   \n",
       "3                        18            0.071429                      17   \n",
       "4                        37            0.538462                      23   \n",
       "...                     ...                 ...                     ...   \n",
       "206204                   32            0.533333                      24   \n",
       "206205                  285            0.480427                     150   \n",
       "206206                  223            0.658291                      92   \n",
       "206207                  677            0.720301                     198   \n",
       "206208                  129            0.525862                      68   \n",
       "\n",
       "        user_average_basket  order_id  eval_set  days_since_prior_order  \n",
       "0                  5.900000   1187899         1                      14  \n",
       "1                 13.928571   1492625         1                      30  \n",
       "2                  7.333333   2774568         2                      11  \n",
       "3                  3.600000    329954         2                      30  \n",
       "4                  9.250000   2196797         1                       6  \n",
       "...                     ...       ...       ...                     ...  \n",
       "206204            10.666667   1716008         1                      10  \n",
       "206205             4.253731   1043943         2                       0  \n",
       "206206            13.937500   2821651         2                      14  \n",
       "206207            13.816327    803273         2                       4  \n",
       "206208             9.923077    272231         1                      30  \n",
       "\n",
       "[206209 rows x 11 columns]"
      ]
     },
     "execution_count": 45,
     "metadata": {},
     "output_type": "execute_result"
    }
   ],
   "source": [
    "users"
   ]
  },
  {
   "cell_type": "code",
   "execution_count": 34,
   "metadata": {},
   "outputs": [
    {
     "data": {
      "text/plain": [
       "user_id                          0\n",
       "user_orders                      0\n",
       "user_period                      0\n",
       "user_mean_days_since_prior       0\n",
       "user_total_products              0\n",
       "user_reorder_ratio            3045\n",
       "user_distinct_products           0\n",
       "user_average_basket              0\n",
       "order_id                         0\n",
       "eval_set                         0\n",
       "days_since_prior_order           0\n",
       "dtype: int64"
      ]
     },
     "execution_count": 34,
     "metadata": {},
     "output_type": "execute_result"
    }
   ],
   "source": [
    "users.isna().sum()"
   ]
  },
  {
   "cell_type": "code",
   "execution_count": 35,
   "metadata": {},
   "outputs": [
    {
     "name": "stdout",
     "output_type": "stream",
     "text": [
      "Finalizing features and the main data file  ...\n"
     ]
    }
   ],
   "source": [
    "print('Finalizing features and the main data file  ...')\n",
    "# merging orders and products and grouping by user and product and calculating features for the user/product combination\n",
    "data = orders_products.groupby(['user_id', 'product_id']).size().to_frame('up_orders')\n",
    "data['up_first_order'] = orders_products.groupby(['user_id', 'product_id'])['order_number'].min()\n",
    "data['up_last_order'] = orders_products.groupby(['user_id', 'product_id'])['order_number'].max()\n",
    "data['up_average_cart_position'] = orders_products.groupby(['user_id', 'product_id'])['add_to_cart_order'].mean()\n",
    "data = data.reset_index()\n",
    "\n",
    "#merging previous data with users\n",
    "data = data.merge(prd, on = 'product_id')\n",
    "data = data.merge(users, on = 'user_id')\n",
    "\n",
    "#user/product combination features about the particular order\n",
    "data['up_order_rate'] = data['up_orders'] / data['user_orders']\n",
    "data['up_orders_since_last_order'] = data['user_orders'] - data['up_last_order']"
   ]
  },
  {
   "cell_type": "code",
   "execution_count": 36,
   "metadata": {},
   "outputs": [
    {
     "data": {
      "text/plain": [
       "user_id                           0\n",
       "product_id                        0\n",
       "up_orders                         0\n",
       "up_first_order                    0\n",
       "up_last_order                     0\n",
       "up_average_cart_position          0\n",
       "prod_orders                       0\n",
       "prod_reorder_probability          0\n",
       "prod_reorder_ratio                0\n",
       "user_orders                       0\n",
       "user_period                       0\n",
       "user_mean_days_since_prior        0\n",
       "user_total_products               0\n",
       "user_reorder_ratio            47895\n",
       "user_distinct_products            0\n",
       "user_average_basket               0\n",
       "order_id                          0\n",
       "eval_set                          0\n",
       "days_since_prior_order            0\n",
       "up_order_rate                     0\n",
       "up_orders_since_last_order        0\n",
       "dtype: int64"
      ]
     },
     "execution_count": 36,
     "metadata": {},
     "output_type": "execute_result"
    }
   ],
   "source": [
    "data.isna().sum()"
   ]
  },
  {
   "cell_type": "code",
   "execution_count": 37,
   "metadata": {},
   "outputs": [],
   "source": [
    "data = data.merge(train_orders[['user_id', 'product_id', 'reordered']], \n",
    "                  how = 'left', on = ['user_id', 'product_id'])\n",
    "data = data.merge(products, on = 'product_id')\n",
    "\n",
    "del orders_products     #, orders, train_orders"
   ]
  },
  {
   "cell_type": "code",
   "execution_count": 38,
   "metadata": {},
   "outputs": [
    {
     "data": {
      "text/plain": [
       "user_id                              0\n",
       "product_id                           0\n",
       "up_orders                            0\n",
       "up_first_order                       0\n",
       "up_last_order                        0\n",
       "up_average_cart_position             0\n",
       "prod_orders                          0\n",
       "prod_reorder_probability             0\n",
       "prod_reorder_ratio                   0\n",
       "user_orders                          0\n",
       "user_period                          0\n",
       "user_mean_days_since_prior           0\n",
       "user_total_products                  0\n",
       "user_reorder_ratio               47895\n",
       "user_distinct_products               0\n",
       "user_average_basket                  0\n",
       "order_id                             0\n",
       "eval_set                             0\n",
       "days_since_prior_order               0\n",
       "up_order_rate                        0\n",
       "up_orders_since_last_order           0\n",
       "reordered                     12449508\n",
       "aisle_id                             0\n",
       "department_id                        0\n",
       "dtype: int64"
      ]
     },
     "execution_count": 38,
     "metadata": {},
     "output_type": "execute_result"
    }
   ],
   "source": [
    "data.isna().sum()"
   ]
  },
  {
   "cell_type": "code",
   "execution_count": 13,
   "metadata": {},
   "outputs": [
    {
     "name": "stdout",
     "output_type": "stream",
     "text": [
      "setting dtypes for data ...\n"
     ]
    },
    {
     "name": "stderr",
     "output_type": "stream",
     "text": [
      "/var/folders/jt/lpglwths3291lvnxtdynb_fh0000gn/T/ipykernel_43291/3031567565.py:17: FutureWarning: A value is trying to be set on a copy of a DataFrame or Series through chained assignment using an inplace method.\n",
      "The behavior will change in pandas 3.0. This inplace method will never work because the intermediate object on which we are setting values always behaves as a copy.\n",
      "\n",
      "For example, when doing 'df[col].method(value, inplace=True)', try using 'df.method({col: value}, inplace=True)' or df[col] = df[col].method(value) instead, to perform the operation inplace on the original object.\n",
      "\n",
      "\n",
      "  data['reordered'].fillna(0, inplace=True)  # replace NaN with zeros (not reordered)\n"
     ]
    },
    {
     "data": {
      "text/plain": [
       "0"
      ]
     },
     "execution_count": 13,
     "metadata": {},
     "output_type": "execute_result"
    }
   ],
   "source": [
    "print('setting dtypes for data ...')\n",
    "\n",
    "#reduce the size by setting data types\n",
    "data = data.astype(dtype= {'user_id' : np.uint32, 'product_id'  : np.uint16,\n",
    "            'up_orders'  : np.uint8, 'up_first_order' : np.uint8, 'up_last_order' : np.uint8,\n",
    "            'up_average_cart_position' : np.uint8, 'prod_orders' : np.uint16, \n",
    "            'prod_reorder_probability' : np.float16,   \n",
    "            'prod_reorder_ratio' : np.float16, 'user_orders' : np.uint8,\n",
    "            'user_period' : np.uint8, 'user_mean_days_since_prior' : np.uint8,\n",
    "            'user_total_products' : np.uint8, 'user_reorder_ratio' : np.float16, \n",
    "            'user_distinct_products' : np.uint8, 'user_average_basket' : np.uint8,\n",
    "            'order_id'  : np.uint32, 'eval_set' : np.uint8, \n",
    "            'days_since_prior_order' : np.uint8, 'up_order_rate' : np.float16, \n",
    "            'up_orders_since_last_order':np.uint8,\n",
    "            'aisle_id': np.uint8, 'department_id': np.uint8})\n",
    "\n",
    "data['reordered'].fillna(0, inplace=True)  # replace NaN with zeros (not reordered) \n",
    "data['reordered']=data['reordered'].astype(np.uint8)\n",
    "\n",
    "gc.collect()"
   ]
  },
  {
   "cell_type": "code",
   "execution_count": 39,
   "metadata": {},
   "outputs": [
    {
     "data": {
      "text/plain": [
       "user_id                              0\n",
       "product_id                           0\n",
       "up_orders                            0\n",
       "up_first_order                       0\n",
       "up_last_order                        0\n",
       "up_average_cart_position             0\n",
       "prod_orders                          0\n",
       "prod_reorder_probability             0\n",
       "prod_reorder_ratio                   0\n",
       "user_orders                          0\n",
       "user_period                          0\n",
       "user_mean_days_since_prior           0\n",
       "user_total_products                  0\n",
       "user_reorder_ratio               47895\n",
       "user_distinct_products               0\n",
       "user_average_basket                  0\n",
       "order_id                             0\n",
       "eval_set                             0\n",
       "days_since_prior_order               0\n",
       "up_order_rate                        0\n",
       "up_orders_since_last_order           0\n",
       "reordered                     12449508\n",
       "aisle_id                             0\n",
       "department_id                        0\n",
       "dtype: int64"
      ]
     },
     "execution_count": 39,
     "metadata": {},
     "output_type": "execute_result"
    }
   ],
   "source": [
    "data.isna().sum()"
   ]
  },
  {
   "cell_type": "code",
   "execution_count": null,
   "metadata": {},
   "outputs": [],
   "source": [
    "print('Preparing Train and Test sets ...')\n",
    "\n",
    "# filter by eval_set (train=1, test=2) and dropp the id's columns (not part of training features) \n",
    "# but keep prod_id and user_id in test\n",
    "\n",
    "train = data[data['eval_set'] == 1].drop(['eval_set', 'user_id', 'product_id', 'order_id'], axis = 1)\n",
    "test =  data[data['eval_set'] == 2].drop(['eval_set', 'user_id', 'reordered'], axis = 1)\n",
    "\n",
    "check =  data.drop(['eval_set', 'user_id', 'reordered'], axis = 1)\n",
    "\n",
    "del data\n",
    "gc.collect()"
   ]
  },
  {
   "cell_type": "code",
   "execution_count": null,
   "metadata": {},
   "outputs": [],
   "source": []
  }
 ],
 "metadata": {
  "kernelspec": {
   "display_name": "instacart",
   "language": "python",
   "name": "python3"
  },
  "language_info": {
   "codemirror_mode": {
    "name": "ipython",
    "version": 3
   },
   "file_extension": ".py",
   "mimetype": "text/x-python",
   "name": "python",
   "nbconvert_exporter": "python",
   "pygments_lexer": "ipython3",
   "version": "3.12.4"
  },
  "orig_nbformat": 4
 },
 "nbformat": 4,
 "nbformat_minor": 2
}
